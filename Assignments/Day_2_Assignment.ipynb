{
  "nbformat": 4,
  "nbformat_minor": 0,
  "metadata": {
    "colab": {
      "provenance": []
    },
    "kernelspec": {
      "name": "python3",
      "display_name": "Python 3"
    },
    "language_info": {
      "name": "python"
    }
  },
  "cells": [
    {
      "cell_type": "code",
      "execution_count": 5,
      "metadata": {
        "colab": {
          "base_uri": "https://localhost:8080/"
        },
        "id": "3LVlzlk6Jh_U",
        "outputId": "c54f78cc-b4ab-4886-ac56-c1c53939fc26"
      },
      "outputs": [
        {
          "output_type": "stream",
          "name": "stdout",
          "text": [
            "Result of A x B:\n",
            " [[19 22]\n",
            " [43 50]]\n"
          ]
        }
      ],
      "source": [
        "#1) Implement a function in NumPy to perform matrix multiplication for two given matrices.\n",
        "\n",
        "\n",
        "import numpy as np\n",
        "\n",
        "def matrix_multiply(A, B):\n",
        "    return np.dot(A, B)\n",
        "\n",
        "A = np.array([[1, 2],\n",
        "              [3, 4]])\n",
        "\n",
        "B = np.array([[5, 6],\n",
        "              [7, 8]])\n",
        "result = matrix_multiply(A, B)\n",
        "print(\"Result of A x B:\\n\", result)\n",
        "\n"
      ]
    },
    {
      "cell_type": "code",
      "source": [
        "#Given a small dataset, perform Min-Max Scaling and Standardization on a numerical\n",
        "#feature without using sklearn preprocessing.\n",
        "\n",
        "import numpy as np\n",
        "\n",
        "data = np.array([10, 20, 30, 40, 50])\n",
        "\n",
        "def min_max_scaling(x):\n",
        "    min_val = np.min(x)\n",
        "    max_val = np.max(x)\n",
        "    return (x - min_val) / (max_val - min_val)\n",
        "\n",
        "def standardize(x):\n",
        "    mean = np.mean(x)\n",
        "    std = np.std(x)\n",
        "    return (x - mean) / std\n",
        "\n",
        "scaled_data = min_max_scaling(data)\n",
        "standardized_data = standardize(data)\n",
        "\n",
        "print(\"Original Data:       \", data)\n",
        "print(\"Min-Max Scaled:      \", scaled_data)\n",
        "print(\"Standardized (Z-Score):\", standardized_data)\n",
        "\n"
      ],
      "metadata": {
        "colab": {
          "base_uri": "https://localhost:8080/"
        },
        "id": "j2NZulecKdRJ",
        "outputId": "8efd1bbc-8653-4e1f-a65f-5c805fe8f8aa"
      },
      "execution_count": 6,
      "outputs": [
        {
          "output_type": "stream",
          "name": "stdout",
          "text": [
            "Original Data:        [10 20 30 40 50]\n",
            "Min-Max Scaled:       [0.   0.25 0.5  0.75 1.  ]\n",
            "Standardized (Z-Score): [-1.41421356 -0.70710678  0.          0.70710678  1.41421356]\n"
          ]
        }
      ]
    }
  ]
}