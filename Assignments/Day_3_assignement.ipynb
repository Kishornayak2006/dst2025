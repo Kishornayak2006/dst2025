{
  "nbformat": 4,
  "nbformat_minor": 0,
  "metadata": {
    "colab": {
      "provenance": []
    },
    "kernelspec": {
      "name": "python3",
      "display_name": "Python 3"
    },
    "language_info": {
      "name": "python"
    }
  },
  "cells": [
    {
      "cell_type": "code",
      "execution_count": 1,
      "metadata": {
        "colab": {
          "base_uri": "https://localhost:8080/"
        },
        "id": "CzjkLr5HLrcQ",
        "outputId": "44fd5617-0b58-4109-ba81-8c1320412b86"
      },
      "outputs": [
        {
          "output_type": "stream",
          "name": "stdout",
          "text": [
            "Probability of Heads: 0.6\n",
            "Probability of Tails: 0.4\n",
            "Probability of having disease given positive test: 0.16666666666666669\n"
          ]
        }
      ],
      "source": [
        "total_flips = 100\n",
        "heads = 60\n",
        "tails = 40\n",
        "\n",
        "p_heads = heads / total_flips\n",
        "p_tails = tails / total_flips\n",
        "\n",
        "print(\"Probability of Heads:\", p_heads)\n",
        "print(\"Probability of Tails:\", p_tails)\n",
        "\n",
        "\n",
        "p_disease = 0.01\n",
        "p_positive_given_disease = 0.99\n",
        "p_positive_given_no_disease = 0.05\n",
        "p_no_disease = 1 - p_disease\n",
        "\n",
        "p_positive = (p_positive_given_disease * p_disease) + \\\n",
        "             (p_positive_given_no_disease * p_no_disease)\n",
        "\n",
        "p_disease_given_positive = (p_positive_given_disease * p_disease) / p_positive\n",
        "\n",
        "print(\"Probability of having disease given positive test:\", p_disease_given_positive)"
      ]
    },
    {
      "cell_type": "code",
      "source": [
        "def f(x):\n",
        "    return 3*x**2 + 2*x - 5\n",
        "\n",
        "def derivative_f(x):\n",
        "    return 6*x + 2\n",
        "\n",
        "x_val = 2\n",
        "print(\"f(x) =\", f(x_val))\n",
        "print(\"f'(x) =\", derivative_f(x_val))\n",
        "x = 2.0\n",
        "learning_rate = 0.1\n",
        "\n",
        "gradient = derivative_f(x)\n",
        "x_new = x - learning_rate * gradient\n",
        "\n",
        "print(\"Updated x:\", x_new)\n"
      ],
      "metadata": {
        "colab": {
          "base_uri": "https://localhost:8080/"
        },
        "id": "8OBF4MY2L9do",
        "outputId": "c4183569-0118-4d1a-836e-92eeb33ba53f"
      },
      "execution_count": 3,
      "outputs": [
        {
          "output_type": "stream",
          "name": "stdout",
          "text": [
            "f(x) = 11\n",
            "f'(x) = 14\n",
            "Updated x: 0.5999999999999999\n"
          ]
        }
      ]
    }
  ]
}